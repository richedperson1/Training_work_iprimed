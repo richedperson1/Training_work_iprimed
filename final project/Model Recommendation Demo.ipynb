{
 "cells": [
  {
   "cell_type": "markdown",
   "id": "3904825f",
   "metadata": {},
   "source": [
    "# Library importing"
   ]
  },
  {
   "cell_type": "code",
   "execution_count": 2,
   "id": "5b0a725c",
   "metadata": {},
   "outputs": [],
   "source": [
    "import recommedation_pipeline as rp\n",
    "import warnings\n",
    "warnings.filterwarnings(\"ignore\")"
   ]
  },
  {
   "cell_type": "markdown",
   "id": "02c3ccd4",
   "metadata": {},
   "source": [
    "# Recommendation Engine"
   ]
  },
  {
   "cell_type": "code",
   "execution_count": 6,
   "id": "d703cca2",
   "metadata": {},
   "outputs": [
    {
     "name": "stdout",
     "output_type": "stream",
     "text": [
      "\n",
      "id  Song name\n",
      "0 : Sonata No. 3, BWV 1005, in C: Allegro assai\n",
      "1 : Am I Losin'\n",
      "2 : Aero Noise\n",
      "3 : A la Luz de un Candil - Remasterizado\n",
      "4 : Away in a Manger\n",
      "5 : The Golden Horn\n",
      "6 : Addicted\n",
      "Please enter id of song : 6\n",
      "\n",
      "Recommendation for song -> Addicted -:\n",
      "\n",
      "1: Destroy Everything -> with distance of 1.0335347860924948:\n",
      "2: Bendita Tu Luz -> with distance of 1.0425324985115985:\n",
      "3: Dile -> with distance of 1.0738838758584037:\n",
      "4: Picture To Burn -> with distance of 1.085166563130476:\n",
      "5: MMMBop - Single Version -> with distance of 1.09925470446637:\n",
      "6: Step Up -> with distance of 1.1461025646018035:\n",
      "7: Back In Time -> with distance of 1.1531804622850474:\n"
     ]
    }
   ],
   "source": [
    "object_pipe = rp.pipeline()\n",
    "object_pipe.recommend_song_list()"
   ]
  },
  {
   "cell_type": "code",
   "execution_count": null,
   "id": "ca456362",
   "metadata": {},
   "outputs": [],
   "source": []
  }
 ],
 "metadata": {
  "kernelspec": {
   "display_name": "Python 3 (ipykernel)",
   "language": "python",
   "name": "python3"
  },
  "language_info": {
   "codemirror_mode": {
    "name": "ipython",
    "version": 3
   },
   "file_extension": ".py",
   "mimetype": "text/x-python",
   "name": "python",
   "nbconvert_exporter": "python",
   "pygments_lexer": "ipython3",
   "version": "3.9.6"
  }
 },
 "nbformat": 4,
 "nbformat_minor": 5
}
