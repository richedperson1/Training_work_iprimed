{
 "cells": [
  {
   "cell_type": "markdown",
   "id": "57b98013",
   "metadata": {},
   "source": [
    "## Library importing"
   ]
  },
  {
   "cell_type": "code",
   "execution_count": 146,
   "id": "54df6d3a",
   "metadata": {},
   "outputs": [],
   "source": [
    "import numpy as np\n",
    "import scipy.stats as st\n",
    "import matplotlib.pyplot as plt\n",
    "import seaborn as sns"
   ]
  },
  {
   "cell_type": "markdown",
   "id": "d390da7e",
   "metadata": {},
   "source": [
    "## Sampling"
   ]
  },
  {
   "cell_type": "code",
   "execution_count": 254,
   "id": "5756cfad",
   "metadata": {},
   "outputs": [],
   "source": [
    "n = 500\n",
    "\n",
    "arr = np.random.randn(n)+0\n",
    "\n",
    "brr = np.random.randn(n)\n",
    "# arr,brr\n",
    "# sns.displot(arr)\n",
    "# sns.displot(brr+5)"
   ]
  },
  {
   "cell_type": "code",
   "execution_count": 56,
   "id": "457b2f85",
   "metadata": {},
   "outputs": [],
   "source": [
    "var_a = arr.var(ddof = 1)\n",
    "var_b = brr.var(ddof = 1)\n",
    "s = np.sqrt((var_a+var_b)/2)\n"
   ]
  },
  {
   "cell_type": "code",
   "execution_count": 57,
   "id": "ecff1773",
   "metadata": {},
   "outputs": [
    {
     "data": {
      "text/plain": [
       "0.0"
      ]
     },
     "execution_count": 57,
     "metadata": {},
     "output_type": "execute_result"
    }
   ],
   "source": [
    "t = (arr.mean()-brr.mean())//(s*np.sqrt(2/n))\n",
    "t"
   ]
  },
  {
   "cell_type": "code",
   "execution_count": 59,
   "id": "14d1ee02",
   "metadata": {},
   "outputs": [
    {
     "name": "stdout",
     "output_type": "stream",
     "text": [
      "The t value : 0.0\n",
      "The p value : 0.5\n"
     ]
    }
   ],
   "source": [
    "df = 2*n-2\n",
    "p_val = 1-st.t.cdf(t,df = df)\n",
    "print(\"The t value : \"+str(t))\n",
    "print(\"The p value : \"+str(p_val))"
   ]
  },
  {
   "cell_type": "code",
   "execution_count": 144,
   "id": "626ca6f9",
   "metadata": {},
   "outputs": [
    {
     "name": "stdout",
     "output_type": "stream",
     "text": [
      "The t value : 0.0374285696966371\n",
      "The p value : 1.9403015569548794\n"
     ]
    }
   ],
   "source": [
    "n = 500\n",
    "p_val_lst = []\n",
    "for i in range(10000):\n",
    "    arr = np.random.randn(n)+0.02\n",
    "\n",
    "    brr = np.random.randn(n)\n",
    "\n",
    "    t_stat,p_val = st.ttest_ind(arr,brr)\n",
    "    p_val_lst.append(p_val)\n",
    "    \n",
    "print(\"The t value : \"+str(t_stat))\n",
    "print(\"The p value : \"+str(p_val*2))"
   ]
  },
  {
   "cell_type": "markdown",
   "id": "f12a6a9c",
   "metadata": {},
   "source": [
    "### T-Test data"
   ]
  },
  {
   "cell_type": "code",
   "execution_count": 142,
   "id": "7d2ac138",
   "metadata": {},
   "outputs": [
    {
     "name": "stdout",
     "output_type": "stream",
     "text": [
      "The t value : -0.16376501034316787\n",
      "The p value : 1.7398985904351996\n"
     ]
    }
   ],
   "source": [
    "n = 500\n",
    "p_val_lst = []\n",
    "arr = np.random.randn(n)+0.02\n",
    "\n",
    "brr = np.random.randn(n)\n",
    "\n",
    "t_stat,p_val = st.ttest_ind(arr,brr)\n",
    "print(\"The t value : \"+str(t_stat))\n",
    "print(\"The p value : \"+str(p_val*2))"
   ]
  },
  {
   "cell_type": "code",
   "execution_count": 145,
   "id": "22473e87",
   "metadata": {},
   "outputs": [
    {
     "data": {
      "text/plain": [
       "(array([1193., 1071., 1036.,  988.,  996.,  946.,  948.,  972.,  982.,\n",
       "         868.]),\n",
       " array([5.93485062e-07, 9.99991854e-02, 1.99997777e-01, 2.99996369e-01,\n",
       "        3.99994961e-01, 4.99993553e-01, 5.99992145e-01, 6.99990737e-01,\n",
       "        7.99989329e-01, 8.99987921e-01, 9.99986513e-01]),\n",
       " <BarContainer object of 10 artists>)"
      ]
     },
     "execution_count": 145,
     "metadata": {},
     "output_type": "execute_result"
    },
    {
     "data": {
      "image/png": "[encoded data removed]",
      "text/plain": [
       "<Figure size 432x288 with 1 Axes>"
      ]
     },
     "metadata": {
      "needs_background": "light"
     },
     "output_type": "display_data"
    }
   ],
   "source": [
    "plt.hist(p_val_lst)"
   ]
  },
  {
   "cell_type": "code",
   "execution_count": 196,
   "id": "d27b40e2",
   "metadata": {},
   "outputs": [
    {
     "data": {
      "text/html": [
       "<div>\n",
       "<style scoped>\n",
       "    .dataframe tbody tr th:only-of-type {\n",
       "        vertical-align: middle;\n",
       "    }\n",
       "\n",
       "    .dataframe tbody tr th {\n",
       "        vertical-align: top;\n",
       "    }\n",
       "\n",
       "    .dataframe thead th {\n",
       "        text-align: right;\n",
       "    }\n",
       "</style>\n",
       "<table border=\"1\" class=\"dataframe\">\n",
       "  <thead>\n",
       "    <tr style=\"text-align: right;\">\n",
       "      <th></th>\n",
       "      <th>sepal_length</th>\n",
       "      <th>sepal_width</th>\n",
       "      <th>petal_length</th>\n",
       "      <th>petal_width</th>\n",
       "      <th>species</th>\n",
       "    </tr>\n",
       "  </thead>\n",
       "  <tbody>\n",
       "    <tr>\n",
       "      <th>0</th>\n",
       "      <td>5.1</td>\n",
       "      <td>3.5</td>\n",
       "      <td>1.4</td>\n",
       "      <td>0.2</td>\n",
       "      <td>setosa</td>\n",
       "    </tr>\n",
       "    <tr>\n",
       "      <th>1</th>\n",
       "      <td>4.9</td>\n",
       "      <td>3.0</td>\n",
       "      <td>1.4</td>\n",
       "      <td>0.2</td>\n",
       "      <td>setosa</td>\n",
       "    </tr>\n",
       "    <tr>\n",
       "      <th>2</th>\n",
       "      <td>4.7</td>\n",
       "      <td>3.2</td>\n",
       "      <td>1.3</td>\n",
       "      <td>0.2</td>\n",
       "      <td>setosa</td>\n",
       "    </tr>\n",
       "    <tr>\n",
       "      <th>3</th>\n",
       "      <td>4.6</td>\n",
       "      <td>3.1</td>\n",
       "      <td>1.5</td>\n",
       "      <td>0.2</td>\n",
       "      <td>setosa</td>\n",
       "    </tr>\n",
       "    <tr>\n",
       "      <th>4</th>\n",
       "      <td>5.0</td>\n",
       "      <td>3.6</td>\n",
       "      <td>1.4</td>\n",
       "      <td>0.2</td>\n",
       "      <td>setosa</td>\n",
       "    </tr>\n",
       "  </tbody>\n",
       "</table>\n",
       "</div>"
      ],
      "text/plain": [
       "   sepal_length  sepal_width  petal_length  petal_width species\n",
       "0           5.1          3.5           1.4          0.2  setosa\n",
       "1           4.9          3.0           1.4          0.2  setosa\n",
       "2           4.7          3.2           1.3          0.2  setosa\n",
       "3           4.6          3.1           1.5          0.2  setosa\n",
       "4           5.0          3.6           1.4          0.2  setosa"
      ]
     },
     "execution_count": 196,
     "metadata": {},
     "output_type": "execute_result"
    }
   ],
   "source": [
    "iris_dataset = sns.load_dataset('iris')\n",
    "iris_dataset.head()"
   ]
  },
  {
   "cell_type": "code",
   "execution_count": 157,
   "id": "48912ccd",
   "metadata": {},
   "outputs": [],
   "source": [
    "# selecting sepal length and petal length from dataset\n",
    "sepal_length_series = iris_dataset.sepal_length\n",
    "petal_length_series = iris_dataset.petal_length"
   ]
  },
  {
   "cell_type": "code",
   "execution_count": 195,
   "id": "f1fc8d0d",
   "metadata": {},
   "outputs": [
    {
     "name": "stdout",
     "output_type": "stream",
     "text": [
      "The t value : 3.7863962970081064\n",
      "The p value : 0.0027035057213423315\n"
     ]
    }
   ],
   "source": [
    "# randomly selecting 10 data points from sepal length and petal length\n",
    "first_sample =np.random.choice(sepal_length_series,10)\n",
    "second_sample = np.random.choice(petal_length_series,10)\n",
    "\n",
    "t_stat,p_val = st.ttest_ind(first_sample,second_sample)\n",
    "print(\"The t value : \"+str(t_stat))\n",
    "print(\"The p value : \"+str(p_val*2))"
   ]
  },
  {
   "cell_type": "code",
   "execution_count": 197,
   "id": "60a06b56",
   "metadata": {},
   "outputs": [
    {
     "name": "stdout",
     "output_type": "stream",
     "text": [
      "The t value : 0.32676003521384445\n",
      "The p value : 1.4952368099979334\n"
     ]
    }
   ],
   "source": [
    "first_sample =np.random.choice(sepal_length_series,10)\n",
    "second_sample = np.random.choice(sepal_length_series,10)\n",
    "\n",
    "t_stat,p_val = st.ttest_ind(first_sample,second_sample)\n",
    "print(\"The t value : \"+str(t_stat))\n",
    "print(\"The p value : \"+str(p_val*2))"
   ]
  },
  {
   "cell_type": "code",
   "execution_count": 210,
   "id": "ff34bf1f",
   "metadata": {},
   "outputs": [],
   "source": [
    "# Checking how p value is distributed\n",
    "list_of_p_val = []\n",
    "for i in range(2,50):\n",
    "    first_sample =np.random.choice(sepal_length_series,i)\n",
    "    second_sample = np.random.choice(petal_length_series,i)\n",
    "\n",
    "    t_stat,p_val = st.ttest_ind(first_sample,second_sample)\n",
    "    list_of_p_val.append(p_val)"
   ]
  },
  {
   "cell_type": "code",
   "execution_count": 212,
   "id": "5b7b2d4a",
   "metadata": {},
   "outputs": [
    {
     "data": {
      "text/plain": [
       "Text(0.5, 1.0, 'distribution of p value')"
      ]
     },
     "execution_count": 212,
     "metadata": {},
     "output_type": "execute_result"
    },
    {
     "data": {
      "image/png": "[encoded data removed]",
      "text/plain": [
       "<Figure size 432x288 with 1 Axes>"
      ]
     },
     "metadata": {
      "needs_background": "light"
     },
     "output_type": "display_data"
    }
   ],
   "source": [
    "# fig, ax = plt.subplots(figsize=(10, 8))\n",
    "plt.plot(list_of_p_val )\n",
    "plt.xlabel(\"P_value\");\n",
    "plt.title(\"distribution of p value\")"
   ]
  },
  {
   "cell_type": "code",
   "execution_count": 214,
   "id": "6929fef3",
   "metadata": {},
   "outputs": [],
   "source": [
    "from scipy.stats import f_oneway\n",
    "sepal_length_series = iris_dataset.sepal_length\n",
    "petal_length_series = iris_dataset.petal_length\n",
    "petal_width_series = iris_dataset.petal_width"
   ]
  },
  {
   "cell_type": "code",
   "execution_count": 246,
   "id": "59a0a9a1",
   "metadata": {},
   "outputs": [
    {
     "data": {
      "text/plain": [
       "F_onewayResult(statistic=636.8207504400849, pvalue=3.8923648327032646e-73)"
      ]
     },
     "execution_count": 246,
     "metadata": {},
     "output_type": "execute_result"
    }
   ],
   "source": [
    "first_sample =np.random.choice(sepal_length_series,50)\n",
    "second_sample = np.random.choice(sepal_length_series,50)\n",
    "third_sample = np.random.choice(petal_width_series,50)\n",
    "f_oneway(third_sample,second_sample,first_sample)"
   ]
  }
 ],
 "metadata": {
  "kernelspec": {
   "display_name": "Python 3 (ipykernel)",
   "language": "python",
   "name": "python3"
  },
  "language_info": {
   "codemirror_mode": {
    "name": "ipython",
    "version": 3
   },
   "file_extension": ".py",
   "mimetype": "text/x-python",
   "name": "python",
   "nbconvert_exporter": "python",
   "pygments_lexer": "ipython3",
   "version": "3.9.6"
  }
 },
 "nbformat": 4,
 "nbformat_minor": 5
}
