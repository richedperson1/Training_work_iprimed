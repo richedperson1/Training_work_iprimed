{
 "cells": [
  {
   "cell_type": "code",
   "execution_count": 1,
   "id": "bfa65494",
   "metadata": {},
   "outputs": [],
   "source": [
    "import numpy as np"
   ]
  },
  {
   "cell_type": "code",
   "execution_count": 9,
   "id": "55443ed6",
   "metadata": {},
   "outputs": [
    {
     "name": "stdout",
     "output_type": "stream",
     "text": [
      "Name: Dr. Savita\n",
      "Degree: BDS\n"
     ]
    }
   ],
   "source": [
    "# create outer class\n",
    "class Doctors:\n",
    "    def __init__(self):\n",
    "        self.name = 'Doctor'\n",
    "        self.den = self.Dentist()\n",
    "        self.car = self.Cardiologist()\n",
    "\n",
    "    def show(self):\n",
    "        print('In outer class')\n",
    "        print('Name:', self.name)\n",
    "\n",
    "    # create a 1st Inner class\n",
    "    class Dentist:\n",
    "        def __init__(self):\n",
    "            self.name = 'Dr. Savita'\n",
    "            self.degree = 'BDS'\n",
    "        def display(self):\n",
    "            print(\"Name:\", self.name)\n",
    "            print(\"Degree:\", self.degree)\n",
    "\n",
    "    # create a 2nd Inner class\n",
    "    class Cardiologist:\n",
    "        def __init__(self):\n",
    "            self.name = 'Dr. Amit'\n",
    "            self.degree = 'DM'\n",
    "        def display(self):\n",
    "            print(\"Name:\", self.name)\n",
    "            print(\"Degree:\", self.degree)\n",
    "\n",
    "# create a object\n",
    "# of outer class\n",
    "outer = Doctors.Dentist()\n",
    "outer.display()\n",
    "\n",
    "# create a object\n",
    "# of 1st inner class\n",
    "# d1 = outer.den\n",
    "\n"
   ]
  },
  {
   "cell_type": "code",
   "execution_count": 14,
   "id": "180961d5",
   "metadata": {},
   "outputs": [
    {
     "data": {
      "text/plain": [
       "array([[2.+0.j, 3.+0.j, 4.+0.j],\n",
       "       [5.+0.j, 6.+0.j, 7.+0.j]])"
      ]
     },
     "execution_count": 14,
     "metadata": {},
     "output_type": "execute_result"
    }
   ],
   "source": [
    "arr = np.array([(2,3,4),(5,6,7)],dtype = complex)\n",
    "arr"
   ]
  },
  {
   "cell_type": "code",
   "execution_count": 22,
   "id": "c1ba8f0e",
   "metadata": {},
   "outputs": [
    {
     "data": {
      "text/plain": [
       "array([[-0.44651677, -0.21707061, -0.067212  ,  0.60849732,  0.28874729,\n",
       "         0.9576709 , -0.01517389],\n",
       "       [-0.92564412,  0.0579965 ,  0.97782221, -3.5236124 ,  0.65114779,\n",
       "        -0.95252107,  1.99061173],\n",
       "       [-1.12949797, -1.17103895, -0.41619443, -0.28113316, -1.06802555,\n",
       "         0.22231375,  0.        ],\n",
       "       [ 0.        ,  0.        ,  0.        ,  0.        ,  0.        ,\n",
       "         0.        ,  0.        ],\n",
       "       [ 0.        ,  0.        ,  0.        ,  0.        ,  0.        ,\n",
       "         0.        ,  0.        ]])"
      ]
     },
     "execution_count": 22,
     "metadata": {},
     "output_type": "execute_result"
    }
   ],
   "source": [
    "arr = np.random.randn(4,5)\n",
    "arr.resize(5,7)\n",
    "arr"
   ]
  },
  {
   "cell_type": "code",
   "execution_count": 28,
   "id": "6a356153",
   "metadata": {},
   "outputs": [
    {
     "data": {
      "text/plain": [
       "array([[0.53974994, 0.41347093, 0.68944336],\n",
       "       [0.67346566, 0.57520115, 0.23023978],\n",
       "       [0.25990071, 0.24652311, 0.01632178],\n",
       "       [0.72274411, 0.75779222, 0.28954648],\n",
       "       [0.24173306, 0.18928199, 0.95977703],\n",
       "       [0.3152945 , 0.90907765, 0.48113315],\n",
       "       [0.04229015, 0.19194606, 0.97064304]])"
      ]
     },
     "execution_count": 28,
     "metadata": {},
     "output_type": "execute_result"
    }
   ],
   "source": [
    "arr_1 = np.random.random((2,3))\n",
    "arr_2 = np.random.random((5,3))\n",
    "np.vstack((arr_2,arr_1))"
   ]
  },
  {
   "cell_type": "code",
   "execution_count": 29,
   "id": "c9c2b15b",
   "metadata": {},
   "outputs": [
    {
     "data": {
      "text/plain": [
       "array([[0.82314404, 0.484799  , 0.49723083, 0.98340964, 0.13703146,\n",
       "        0.17244359, 0.05060323, 0.78477742, 0.5730696 , 0.37041626,\n",
       "        0.81517604, 0.59852153],\n",
       "       [0.34588126, 0.65443554, 0.97907014, 0.12132052, 0.69358684,\n",
       "        0.63957324, 0.91046169, 0.0534999 , 0.91497678, 0.95732873,\n",
       "        0.18848934, 0.84488774]])"
      ]
     },
     "execution_count": 29,
     "metadata": {},
     "output_type": "execute_result"
    }
   ],
   "source": [
    "arr_1 = np.random.random((2,8))\n",
    "arr_2 = np.random.random((2,4))\n",
    "np.hstack((arr_2,arr_1))"
   ]
  },
  {
   "cell_type": "code",
   "execution_count": 55,
   "id": "1a0dbf10",
   "metadata": {},
   "outputs": [
    {
     "data": {
      "text/plain": [
       "array([[0.98901151, 0.54954473],\n",
       "       [0.2814473 , 0.07728957]])"
      ]
     },
     "execution_count": 55,
     "metadata": {},
     "output_type": "execute_result"
    }
   ],
   "source": [
    "np.random.seed(45)\n",
    "a = np.random.random((2,2))\n",
    "a"
   ]
  },
  {
   "cell_type": "code",
   "execution_count": 56,
   "id": "4965df7b",
   "metadata": {},
   "outputs": [
    {
     "data": {
      "text/plain": [
       "array([[1., 0., 0., 0., 0.],\n",
       "       [0., 1., 0., 0., 0.],\n",
       "       [0., 0., 1., 0., 0.],\n",
       "       [0., 0., 0., 1., 0.],\n",
       "       [0., 0., 0., 0., 1.]])"
      ]
     },
     "execution_count": 56,
     "metadata": {},
     "output_type": "execute_result"
    }
   ],
   "source": [
    "np.eye(5)"
   ]
  },
  {
   "cell_type": "markdown",
   "id": "cfa92657",
   "metadata": {},
   "source": [
    "## <h1 style=\"font-style: italic;color:blue+red\"> List vs Numpy arrays"
   ]
  },
  {
   "cell_type": "code",
   "execution_count": 73,
   "id": "5100ec96",
   "metadata": {},
   "outputs": [],
   "source": [
    "import time\n",
    "times = time.time()\n",
    "first_array = range(1000)\n",
    "second_array = range(1000)\n",
    "z = [second_array[i]*first_array[i] for i in range(1000)]\n",
    "second_time = time.time()-times"
   ]
  },
  {
   "cell_type": "code",
   "execution_count": 83,
   "id": "11054501",
   "metadata": {},
   "outputs": [
    {
     "name": "stdout",
     "output_type": "stream",
     "text": [
      "2.487771987915039 \t 0.05485415458679199\n",
      "Numpy in this example is: 45x faster\n"
     ]
    }
   ],
   "source": [
    "# numpy array is blazingly faster than python lists\n",
    "\n",
    "import math\n",
    "import time\n",
    "import numpy as np\n",
    "size_vector = 10000000\n",
    "\n",
    "def pure_python_version():\n",
    "    t1=time.time()\n",
    "    X = range(size_vector)\n",
    "    Y = range(size_vector)\n",
    "    Z = [X[i] * Y[i] for i in range(len(X))]\n",
    "    return time.time() - t1\n",
    "\n",
    "def numpy_version():\n",
    "    t1 = time.time()\n",
    "    X = np.arange(size_vector)\n",
    "    Y = np.arange(size_vector)\n",
    "    Z = X*Y\n",
    "    return time.time() -t1\n",
    "\n",
    "t1 = pure_python_version()\n",
    "t2 = numpy_version()\n",
    "\n",
    "print(t1, \"\\t\", t2)\n",
    "print (\"Numpy in this example is: \" + str(math.floor(t1/t2)) + \"x faster\")"
   ]
  },
  {
   "cell_type": "code",
   "execution_count": null,
   "id": "0ebd8c5f",
   "metadata": {},
   "outputs": [],
   "source": []
  }
 ],
 "metadata": {
  "kernelspec": {
   "display_name": "Python 3 (ipykernel)",
   "language": "python",
   "name": "python3"
  },
  "language_info": {
   "codemirror_mode": {
    "name": "ipython",
    "version": 3
   },
   "file_extension": ".py",
   "mimetype": "text/x-python",
   "name": "python",
   "nbconvert_exporter": "python",
   "pygments_lexer": "ipython3",
   "version": "3.9.6"
  }
 },
 "nbformat": 4,
 "nbformat_minor": 5
}
