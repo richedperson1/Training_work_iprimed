{
 "cells": [
  {
   "cell_type": "markdown",
   "id": "0b467e72",
   "metadata": {},
   "source": [
    "## First Quection "
   ]
  },
  {
   "cell_type": "code",
   "execution_count": 15,
   "id": "786a359e",
   "metadata": {},
   "outputs": [],
   "source": [
    "# Q1. Write a program that calculates and prints the value according to the given formula:\n",
    "# Q = Square root of [(2 * C * D)/H]\n",
    "\n",
    "\"\"\" Following are the fixed values of C and H:\n",
    "C is 50. H is 30.\n",
    "D is the variable whose values should be input to your program in a comma-separated sequence.\n",
    "Example\n",
    "Let us assume the following comma separated input sequence is given to the program:\n",
    "100,150,180\n",
    "The output of the program should be:\n",
    "18,22,24\n",
    "Hints:\n",
    "If the output received is in decimal form, it should be rounded off to its nearest value (for example, if the output received is 26.0, it should be printed as 26)\n",
    "In case of input data being supplied to the question, it should be assumed to be a console input.\n",
    "\"\"\"\n",
    "import numpy as np"
   ]
  },
  {
   "cell_type": "code",
   "execution_count": 10,
   "id": "f1652543",
   "metadata": {},
   "outputs": [
    {
     "name": "stdout",
     "output_type": "stream",
     "text": [
      "Please Enter value of d separate by comma\n",
      "100,150,180\n",
      "18,22,24,"
     ]
    }
   ],
   "source": [
    "C = 50\n",
    "H = 30\n",
    "def square_root_formula(D,c = C,h = H):\n",
    "    \"\"\"\n",
    "    square_root_formula function take Three arguments out of which two are fix while one is varibles\n",
    "    Author : rutvikjaiswal195@gmail.com\n",
    "    Date : 4th April 2022\n",
    "    \"\"\"\n",
    "    answer = ((2*C*D)/h)**0.5\n",
    "    return answer\n",
    "\n",
    "\n",
    "try:\n",
    "    arr_of_d = list(map(int,input(\"Please Enter value of d separate by comma\\n\").split(',')))\n",
    "    \n",
    "    for val in arr_of_d:\n",
    "        local = square_root_formula(val)\n",
    "        print(round(local) ,end = ',')\n",
    "        \n",
    "except Exception as e:\n",
    "    print(e)"
   ]
  },
  {
   "cell_type": "markdown",
   "id": "4b1cf94e",
   "metadata": {},
   "source": [
    "## Second Quections"
   ]
  },
  {
   "cell_type": "code",
   "execution_count": 3,
   "id": "24bea030",
   "metadata": {},
   "outputs": [
    {
     "name": "stdout",
     "output_type": "stream",
     "text": [
      "bb\n"
     ]
    }
   ],
   "source": [
    "# Q2. Given a string s, find the longest palindromic substring in s. You may assume that the maximum length of s is 1000.\n",
    "\n",
    "\"\"\"\n",
    "Input: \"babad\"\n",
    "Output: \"bab\"\n",
    "Input: \"cbbd\"\n",
    "Output: \"bb\"\n",
    "\"\"\"\n",
    "\n",
    "def checking_string(string,low,high):\n",
    "    while low>=0 and high< len(string) and string[low]==string[high]:\n",
    "        low-=1\n",
    "        high +=1\n",
    "    return string[low+1:high]\n",
    "\n",
    "string = \"cbbd\"\n",
    "result_string = \"\"\n",
    "length_of_str = len(string)\n",
    "for i in range(length_of_str):\n",
    "    \n",
    "    tmp  = checking_string(string,i,i)\n",
    "    if len(tmp)>len(result_string):\n",
    "        result_string = tmp\n",
    "    \n",
    "    tmp = checking_string(string,i,i+1)\n",
    "    if len(tmp)>len(result_string):\n",
    "        result_string = tmp\n",
    "\n",
    "print(result_string)"
   ]
  },
  {
   "cell_type": "markdown",
   "id": "e8af8b8b",
   "metadata": {},
   "source": [
    "## Third Quection"
   ]
  },
  {
   "cell_type": "code",
   "execution_count": null,
   "id": "4a3b26ce",
   "metadata": {},
   "outputs": [],
   "source": [
    "# Q3. Given the names and grades for each student in a class of N students, store them in a \n",
    "# nested list and print the name(s) of any student(s) having the second lowest grade.\n",
    "\"\"\"\n",
    "Note: If there are multiple students with the second lowest grade, order their names alphabetically and \n",
    "print each name on a new line.\n",
    "\n",
    "Example :\n",
    "record = [['Anshul' , 50.0] , ['Harish' , 20.0] , ['Shubham' , 50.0]]\n",
    "The ordered list of scores is [20.0 , 50.0], so the second lowest score is 50.0 . \n",
    "There are two students with that score: . Ordered alphabetically, the names are printed as:\n",
    "Anshul\n",
    "shubham\n",
    "input format:\n",
    "The first line contains an integer,N, the number of students.\n",
    "The 2N subsequent lines describe each student over 2 lines.\n",
    "- The first line contains a student's name.\n",
    "- The second line contains their grade.\n",
    "Sample input\n",
    "3\n",
    "Anshul\n",
    "50.0\n",
    "Harish\n",
    "20.0\n",
    "Shubham\n",
    "50.0\n",
    "Sample Output:\n",
    "recorded list = [['Anshul' , 50.0] , ['Harish' , 20.0] , ['Shubham' , 50.0]]\n",
    "Anshul\n",
    "Shubham\n",
    "Note - Do not use any inbuilt functions\n",
    "\"\"\"\n"
   ]
  },
  {
   "cell_type": "code",
   "execution_count": 4,
   "id": "86c13406",
   "metadata": {},
   "outputs": [
    {
     "name": "stdout",
     "output_type": "stream",
     "text": [
      "Anshul Shubham\n"
     ]
    }
   ],
   "source": [
    "arr = [['Anshul' , 50.0] , ['Harish' , 20.0] , ['Shubham' , 50.0]]\n",
    "\n",
    "\n",
    "try:\n",
    "    high1 = 0\n",
    "    high2 = 0\n",
    "    \n",
    "    for data in arr:\n",
    "        if data[1]>high1:\n",
    "            high2 = high1\n",
    "            high1 = data[1]\n",
    "        elif data[1]> high2:\n",
    "            high2 = data[1]\n",
    "            \n",
    "            \n",
    "    student_list = []\n",
    "    \n",
    "    for data in arr:\n",
    "        if data[1]==high2:\n",
    "            student_list.append(data[0])\n",
    "            \n",
    "    student_list = sorted(student_list)   \n",
    "    print(*student_list)\n",
    "    \n",
    "except Exception as e:\n",
    "    print(e)"
   ]
  },
  {
   "cell_type": "markdown",
   "id": "a53b5be1",
   "metadata": {},
   "source": [
    "## Bonus Quection"
   ]
  },
  {
   "cell_type": "code",
   "execution_count": null,
   "id": "29cec2cd",
   "metadata": {},
   "outputs": [],
   "source": [
    "# Bonus Question. Rock Scissor Paper Lizard Spock\n",
    "\n",
    "\"\"\"\n",
    "Rock-paper-scissors is a surprisingly popular game that many people play seriously.\n",
    "Due to the fact that a tie happens around 1/3 of the time, several variants of\n",
    "Rock-Paper-Scissors exist that include more choices to make ties less likely.\n",
    "\n",
    "Rock-paper-scissors-lizard-Spock (RPSLS) is a variant of Rock-paper-scissors\n",
    "that allows five choices. Each choice wins against two other choices,\n",
    "loses against two other choices and ties against itself.\n",
    "\n",
    "The complete list of Rules is :\n",
    "\n",
    "Scissors cuts Paper\n",
    "Paper covers Rock\n",
    "Rock crushes Lizard\n",
    "Lizard poisons Spock\n",
    "Spock smashes Scissors\n",
    "Scissors decapitates Lizard\n",
    "Lizard eats Paper\n",
    "Paper disproves Spock\n",
    "Spock vaporizes Rock\n",
    "Rock crushes Scissors\n",
    "\n",
    "Your task is to take a user input (Rock,paper,scissors,lizard,Spock) and\n",
    "a randomly generated computer input and print who won. The game should continue\n",
    "till we decide to quit by pressing q on your keyboard.\n",
    "\"\"\""
   ]
  },
  {
   "cell_type": "code",
   "execution_count": 6,
   "id": "0d53af94",
   "metadata": {},
   "outputs": [
    {
     "name": "stdout",
     "output_type": "stream",
     "text": [
      "Please Enter Your choice from 'rock','paper','scissors','lizard','spock' lizard\n",
      "You won because \n",
      "computer choice : spock and your is lizard\n",
      "\n",
      "Please Enter Your choice from 'rock','paper','scissors','lizard','spock' scissors\n",
      "Match is tie because computer choice : scissors and your scissors\n",
      "\n",
      "Please Enter Your choice from 'rock','paper','scissors','lizard','spock' paper\n",
      "You won because \n",
      "computer choice : rock and your is paper\n",
      "\n",
      "Please Enter Your choice from 'rock','paper','scissors','lizard','spock' q\n",
      "Thank you for playing game\n"
     ]
    }
   ],
   "source": [
    "import random\n",
    "possibility = ['rock','paper','scissors','lizard','spock']\n",
    "\n",
    "killing = {'scissors':['paper','lizard'],'paper':['rock','spock'],'rock':['lizard','scissors'],\n",
    "           'lizard':['spock','paper'],'spock':['scissors','rock']}\n",
    "\n",
    "\n",
    "while True:\n",
    "    try:\n",
    "        computer_choice = random.choice(possibility)\n",
    "\n",
    "        user_input = input(\"Please Enter Your choice from 'rock','paper','scissors','lizard','spock' \").lower()\n",
    "        if user_input=='q':\n",
    "            break\n",
    "#         is_comp_kill = (computer_choice in killing[user_input])\n",
    "\n",
    "        elif (computer_choice in killing[user_input]):\n",
    "            print(f\"You won because \\ncomputer choice : {computer_choice} and your is {user_input}\\n\")\n",
    "\n",
    "        elif  (user_input in killing[computer_choice]):\n",
    "            print(f\"computer won because computer choice : {computer_choice} and your: {user_input}\\n\")\n",
    "\n",
    "        else:\n",
    "            print(f\"Match is tie because computer choice : {computer_choice} and your {user_input}\\n\")\n",
    "    except Exception as e:\n",
    "        print(e)\n",
    "        break\n",
    "\n",
    "print(\"Thank you for playing game\")"
   ]
  }
 ],
 "metadata": {
  "kernelspec": {
   "display_name": "Python 3 (ipykernel)",
   "language": "python",
   "name": "python3"
  },
  "language_info": {
   "codemirror_mode": {
    "name": "ipython",
    "version": 3
   },
   "file_extension": ".py",
   "mimetype": "text/x-python",
   "name": "python",
   "nbconvert_exporter": "python",
   "pygments_lexer": "ipython3",
   "version": "3.9.6"
  }
 },
 "nbformat": 4,
 "nbformat_minor": 5
}
