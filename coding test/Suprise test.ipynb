{
 "cells": [
  {
   "cell_type": "markdown",
   "id": "d7832030",
   "metadata": {},
   "source": [
    "### Q1. Given an unsorted list (array) of integers (positive and negative),provide the efficient code in order to arrange them such that all negative numbers are in left part of array and all positive are grouped in right part of array.\n",
    "\n",
    "\n",
    "Following these constraints:\n",
    "1. You can use only one loop\n",
    "2. No extra data structures to be used.\n",
    "3. No inbuilt function to be used such as sort()\n",
    "\n",
    "Sample Input:\n",
    "a = [20,-10,19,45,90,-1,5,-19,-56,89]\n",
    "Output:\n",
    "a = [-10,-1,-19,-56,20,19,45,90,5,89]\n",
    "\n"
   ]
  },
  {
   "cell_type": "code",
   "execution_count": 26,
   "id": "ae615a30",
   "metadata": {},
   "outputs": [
    {
     "name": "stdout",
     "output_type": "stream",
     "text": [
      "[-10, -1, -19, -56, 90, 20, 5, 19, 45, 89]\n"
     ]
    }
   ],
   "source": [
    "# arr = list(map(int,input().split()))\n",
    "\n",
    "arr = [20,-10,19,45,90,-1,5,-19,-56,89]\n",
    "def grouping_positive(arr,size_of_array):\n",
    "    neg = 0\n",
    "    for i in range(size_of_array):\n",
    "        if arr[i]<0:\n",
    "            arr[neg],arr[i] = arr[i],arr[neg]\n",
    "            neg += 1\n",
    "            \n",
    "    return arr\n",
    "            \n",
    "print(grouping_positive(arr,len(arr)))"
   ]
  },
  {
   "cell_type": "markdown",
   "id": "d706b676",
   "metadata": {},
   "source": [
    "\n",
    "### Q2. N soldiers are standing in a circle and first person has sword and he kills the 2nd person and gives the sword to the third person and so on till 99th person kills the 100th person gives the sword back to the first person, this goes on till only one person survives. Print the survivor.\n",
    "\n",
    "\n",
    "Example:\n",
    "Sample Input:\n",
    "No. of soldiers: 9 (Ex: 123456789)\n",
    "step size: 2\n",
    "Output:\n",
    "2\n",
    "4\n",
    "6\n",
    "8\n",
    "1\n",
    "5\n",
    "9\n",
    "7\n",
    "3 is safe\n"
   ]
  },
  {
   "cell_type": "code",
   "execution_count": null,
   "id": "f9547d9c",
   "metadata": {},
   "outputs": [],
   "source": [
    "count_of_person = int(input(\"Please enter the number of people you wanted to try for gun shooting ...! \"))\n",
    "def index_of_soldier_won(count_of_person):\n",
    "\tarray = [0] * count_of_person\n",
    "\n",
    "\tfor i in range(count_of_person):\n",
    "\t\tarray[i] = i + 1\n",
    "\n",
    "\tindex_of_person = 0\n",
    "\n",
    "\twhile (len(array) > 1):\n",
    "\t\tindex_of_person += 1\n",
    "\t\tindex_of_person %= len(array)\n",
    "\t\tdel array[index_of_person]\n",
    "\n",
    "\treturn(array[0])\n",
    "\n",
    "print(index_of_soldier_won(count_of_person))"
   ]
  },
  {
   "cell_type": "markdown",
   "id": "2b8a0178",
   "metadata": {},
   "source": [
    "### Q3. Given a string could you verify if it a palindrome, mirrored string or mirrored palindrome (palindrome + mirrored string)\n",
    "\"\"\"\n",
    "INPUTS:\n",
    "\n",
    "NOTAPALINDROME<br>\n",
    "ISAPALINILAPASI<br>\n",
    "2A3MEAS<br>\n",
    "ATOYOTA<br>\n",
    "OUTPUTS:\n",
    "NOTAPALINDROME is not a palindrome.\n",
    "ISAPALINILAPASI is a regular palindrome.\n",
    "2A3MEAS is a mirrored string.\n",
    "ATOYOTA is a mirrored palindrome.\n",
    "\n",
    "b='ATOYOTA'\n",
    "mirrored = {​​​'A':'A', 'B':' ' , 'C':' ' , 'D':' ' , 'E':'3', 'F':' ' , 'G':' ' , 'H':'H', 'I':'I', 'J':'L',\n",
    "'K':' ' , 'L':'J', 'M':'M', 'N':' ' , 'O':'O', 'P':' ' , 'Q':' ' , 'R':' ' , 'S':'2', 'T':'T',\n",
    "'U':'U', 'V':'V', 'W':'W', 'X':'X', 'Y':'Y', 'Z':'5', '1':'1', '2':'S', '3':'E', '4':' ' ,\n",
    "'5':'Z', '6':' ' , '7':' ' , '8':'8','9':' ' }\n",
    "\"\"\"\n"
   ]
  },
  {
   "cell_type": "code",
   "execution_count": 18,
   "id": "31b3e1d2",
   "metadata": {},
   "outputs": [],
   "source": [
    "mapping = {'A':'A', 'B':' ' , 'C':' ' , 'D':' ' , 'E':'3', 'F':' ' , 'G':' ' , 'H':'H', 'I':'I', 'J':'L', 'K':' ' , 'L':'J', 'M':'M', 'N':' ' , 'O':'O', 'P':' ' , 'Q':' ' , 'R':' ' , 'S':'2', 'T':'T', 'U':'U', 'V':'V', 'W':'W', 'X':'X', 'Y':'Y', 'Z':'5', '1':'1', '2':'S', '3':'E', '4':' ' , '5':'Z', '6':' ' , '7':' ' , '8':'8','9':' ' }\n",
    "# mapping"
   ]
  },
  {
   "cell_type": "code",
   "execution_count": 38,
   "id": "5aff13ea",
   "metadata": {},
   "outputs": [
    {
     "name": "stdout",
     "output_type": "stream",
     "text": [
      "Enter string to check aba\n",
      "aba Mirrored palindrome\n"
     ]
    }
   ],
   "source": [
    "string = input(\"Enter string to check \")\n",
    "def check_palimdrom(string,mapping):\n",
    "    if string[::-1]==string:\n",
    "        return True\n",
    "    else:\n",
    "        return False\n",
    "    \n",
    "def mirrored_string(string,mapping):\n",
    "    start = 0\n",
    "    end = len(string)-1\n",
    "    while start<end:\n",
    "        local1 = string[start]\n",
    "        local2 = mapping[string[end]]\n",
    "        if local1!=local2:\n",
    "            return False\n",
    "        start+=1\n",
    "        end-=1\n",
    "    return True\n",
    "\n",
    "\n",
    "is_palim = check_palimdrom(string.upper(),mapping)\n",
    "is_marrior= mirrored_string(string.upper(),mapping)\n",
    "\n",
    "if is_palim and is_marrior:\n",
    "    print(f\"{string} Mirrored palindrome\")\n",
    "elif is_palim and is_marrior==False:\n",
    "    print(f\"{string} is regular string\")\n",
    "\n",
    "elif is_marrior:\n",
    "    print(f\"{string} is Mirrored string\")\n",
    "    \n",
    "else:\n",
    "    print(f\"{string} not palindrome \")"
   ]
  },
  {
   "cell_type": "code",
   "execution_count": 24,
   "id": "033f8efd",
   "metadata": {},
   "outputs": [
    {
     "data": {
      "text/plain": [
       "'palindrome Mirrored string'"
      ]
     },
     "execution_count": 24,
     "metadata": {},
     "output_type": "execute_result"
    }
   ],
   "source": [
    "\n",
    "# def checking_string(string,mapping):\n",
    "#     start = 0\n",
    "#     end = len(string)-1\n",
    "#     palimdrom_check = True\n",
    "#     mirriored  = False\n",
    "#     while start < end:\n",
    "#         if string[start]!=string[end] :\n",
    "#             if string[start]==mapping[string[end]] or mapping[string[start]]==string[start]:\n",
    "#                 mirriored = True\n",
    "#             else:\n",
    "#                 palimdrom_check = False\n",
    "\n",
    "#         if string[start]==mapping[string[end]] or mapping[string[start]]==string[start]:\n",
    "#             mirriored = True\n",
    "        \n",
    "#         start+=1\n",
    "#         end -=1\n",
    "\n",
    "#     if palimdrom_check and mirriored:\n",
    "#         return \"palindrome Mirrored string\"\n",
    "#     if palimdrom_check:\n",
    "#         return \"Palimdrome only\"\n",
    "    \n",
    "#     else:\n",
    "#         return \"Not palindrome\"\n",
    "    \n",
    "# checking_string(\"ISAPALINILAPASI\",mapping)"
   ]
  }
 ],
 "metadata": {
  "kernelspec": {
   "display_name": "Python 3 (ipykernel)",
   "language": "python",
   "name": "python3"
  },
  "language_info": {
   "codemirror_mode": {
    "name": "ipython",
    "version": 3
   },
   "file_extension": ".py",
   "mimetype": "text/x-python",
   "name": "python",
   "nbconvert_exporter": "python",
   "pygments_lexer": "ipython3",
   "version": "3.9.6"
  }
 },
 "nbformat": 4,
 "nbformat_minor": 5
}
